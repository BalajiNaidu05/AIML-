{
  "nbformat": 4,
  "nbformat_minor": 0,
  "metadata": {
    "colab": {
      "provenance": [],
      "authorship_tag": "ABX9TyOoxuJQkB6g4wbRGHNTPY9M",
      "include_colab_link": true
    },
    "kernelspec": {
      "name": "python3",
      "display_name": "Python 3"
    },
    "language_info": {
      "name": "python"
    }
  },
  "cells": [
    {
      "cell_type": "markdown",
      "metadata": {
        "id": "view-in-github",
        "colab_type": "text"
      },
      "source": [
        "<a href=\"https://colab.research.google.com/github/BalajiNaidu05/AIML-PROJECT/blob/main/AIML_PROGRAMS.ipynb\" target=\"_parent\"><img src=\"https://colab.research.google.com/assets/colab-badge.svg\" alt=\"Open In Colab\"/></a>"
      ]
    },
    {
      "cell_type": "code",
      "execution_count": 1,
      "metadata": {
        "colab": {
          "base_uri": "https://localhost:8080/"
        },
        "id": "9K-RM3PkvhOy",
        "outputId": "749802e3-70d8-491d-c678-4c421fa46eb1"
      },
      "outputs": [
        {
          "output_type": "stream",
          "name": "stdout",
          "text": [
            "Following is the Breadth-First Search\n",
            "5 3 7 2 4 8 "
          ]
        }
      ],
      "source": [
        "#BFS ALGORITHM\n",
        "graph = {\n",
        "    '5': ['3','7'],\n",
        "    '3':['2','4'],\n",
        "    '7':['8'],\n",
        "    '2':[],\n",
        "    '4':['8'],\n",
        "    '8':[]\n",
        "}\n",
        "visited = []\n",
        "queue = []\n",
        "def bfs(visited,graph,node):\n",
        "  visited.append(node)\n",
        "  queue.append(node)\n",
        "  while queue:\n",
        "    m = queue.pop(0)\n",
        "    print(m,end = \" \")\n",
        "    for neighbour in graph[m]:\n",
        "      if neighbour not in visited:\n",
        "        visited.append(neighbour)\n",
        "        queue.append(neighbour)\n",
        "print(\"Following is the Breadth-First Search\")\n",
        "bfs(visited,graph,'5')\n"
      ]
    },
    {
      "cell_type": "code",
      "source": [
        "#DFS ALGORITHM\n",
        "graph = {\n",
        "    '5': ['3','7'],\n",
        "    '3':['2','4'],\n",
        "    '7':['8'],\n",
        "    '2':[],\n",
        "    '4':['8'],\n",
        "    '8':[]\n",
        "}\n",
        "visited = []\n",
        "queue = []\n",
        "def dfs (visited,queue,node):\n",
        "  if node not in visited:\n",
        "    print(node,end = \" \")\n",
        "    visited.append(node)\n",
        "    for neighbour in graph[node]:\n",
        "      dfs(visited,queue,neighbour)\n",
        "print(\"Following is the Depth-First Search\")\n",
        "dfs(visited,queue,'5')"
      ],
      "metadata": {
        "id": "C4xvBtwMv7uo"
      },
      "execution_count": null,
      "outputs": []
    },
    {
      "cell_type": "code",
      "source": [
        "#LINEAR REGRESSION\n",
        "import numpy as np\n",
        "import pandas as pd\n",
        "from sklearn import datasets\n",
        "from sklearn.model_selection import train_test_split\n",
        "from sklearn.linear_model import LinearRegression\n",
        "from sklearn.metrics import mean_squared_error\n",
        "import matplotlib.pyplot as plt\n",
        "\n",
        "#Load the iris dataset\n",
        "iris = datasets.load_iris()\n",
        "x = iris.data[:, 3].reshape(-1,1) #Petal width\n",
        "y = iris.data[:, 2] #Petal length\n",
        "\n",
        "#Convert to a DataFrame for easier handling\n",
        "iris_df = pd.DataFrame(data = iris.data, columns = iris.feature_names)\n",
        "iris_df['species'] = iris.target\n",
        "\n",
        "print(iris_df.head())\n",
        "\n",
        "#Split the datasets into training (70%) and testing (30%) sets\n",
        "X_train, X_test, y_train, y_test = train_test_split(x, y, test_size = 0.3, random_state = 42)\n",
        "\n",
        "#Create and train the linear regression model\n",
        "model = LinearRegression()\n",
        "model.fit (X_train, y_train)\n",
        "\n",
        "#Make predictions on the test set\n",
        "y_pred = model.predict(X_test)\n",
        "\n",
        "#Evaluate the model\n",
        "mse = mean_squared_error(y_test, y_pred)\n",
        "print(f\"Mean Squared Error: {mse}\")\n",
        "plt.scatter(X_test, y_test, color = 'blue', label = 'Actual')\n",
        "\n",
        "\n",
        "#Plot the results\n",
        "plt.scatter(X_test, y_test, color = 'blue', label = 'Actual')\n",
        "plt.plot(X_test, y_pred, color = 'red', linewidth = 2, label = 'Predicted')\n",
        "plt.xlabel('Petal Width (cm)')\n",
        "plt.ylabel('Petal Length (cm)')\n",
        "plt.title('Linear Regression on Iris Dataset')\n",
        "plt.legend()\n",
        "plt.show()"
      ],
      "metadata": {
        "id": "tf3fQCliwHYq"
      },
      "execution_count": null,
      "outputs": []
    },
    {
      "cell_type": "code",
      "source": [
        "#ITBFS\n",
        "from collections import defaultdict\n",
        "\n",
        "n = int(input(\"Enter No of Nodes:\"))\n",
        "e = int(input(\"Enter No of Edge:\"))\n",
        "\n",
        "graph = defaultdict(list)\n",
        "\n",
        "for i in range(e):\n",
        "    i,j = map(int,input().split())\n",
        "    graph[i].append(j)\n",
        "\n",
        "def dfs(v,goal,limit):\n",
        "    if v == goal:\n",
        "        return 1;\n",
        "\n",
        "    for i in graph[v]:\n",
        "        if limit-1 >= 0:\n",
        "            if dfs(i,goal,limit-1) !=  -1:\n",
        "                return 1\n",
        "    return -1\n",
        "\n",
        "\n",
        "goal = int(input(\"Enter Goal:\"))\n",
        "limit = int(input(\"Enter Limit:\"))\n",
        "\n",
        "res = dfs(0,goal,limit)\n",
        "\n",
        "if res == -1:\n",
        "    print(\"not found\")\n",
        "else:\n",
        "    print(\"found within depth limit\")"
      ],
      "metadata": {
        "id": "8zzvbM6zwMlm"
      },
      "execution_count": null,
      "outputs": []
    },
    {
      "cell_type": "code",
      "source": [
        "#MAP COLOURING\n",
        "class MapColoring:\n",
        "    def __init__(self, states, graph, num_colors):\n",
        "        self.states = states\n",
        "        self.graph = graph\n",
        "        self.num_colors = num_colors\n",
        "        self.colors = [0] * len(graph)\n",
        "        self.color_names = [\"Red\", \"Green\", \"Blue\", \"Yellow\"]\n",
        "\n",
        "    def is_safe(self, node, color):\n",
        "        for neighbor in self.graph[node]:\n",
        "            if self.colors[neighbor] == color:\n",
        "                return False\n",
        "        return True\n",
        "\n",
        "    def color_map(self, node):\n",
        "        if node == len(self.graph):\n",
        "            return True\n",
        "\n",
        "        for color in range(1, self.num_colors + 1):\n",
        "            if self.is_safe(node, color):\n",
        "                self.colors[node] = color\n",
        "                if self.color_map(node + 1):\n",
        "                    return True\n",
        "                self.colors[node] = 0\n",
        "        return False\n",
        "\n",
        "    def solve(self):\n",
        "        if not self.color_map(0):\n",
        "            return \"No solution\"\n",
        "        return {self.states[i]: self.color_names[self.colors[i] - 1] for i in range(len(self.states))}\n",
        "\n",
        "# Example usage:\n",
        "states = [\"Western Australia\", \"Northern Territory\", \"Queensland\", \"South Australia\", \"New South Wales\", \"Victoria\", \"Tasmania\"]\n",
        "graph = [\n",
        "    [1, 3],          # Edges for Western Australia\n",
        "    [0, 2, 3],       # Edges for Northern Territory\n",
        "    [1, 3, 4, 5],    # Edges for Queensland\n",
        "    [0, 1, 2, 4, 5], # Edges for South Australia\n",
        "    [2, 3, 5],       # Edges for New South Wales\n",
        "    [2, 3, 4],       # Edges for Victoria\n",
        "    []               # Tasmania is an island, no edges\n",
        "]\n",
        "num_colors = 4  # Number of colors to use\n",
        "map_coloring = MapColoring(states, graph, num_colors)\n",
        "result = map_coloring.solve()\n",
        "print(f\"Color assignment: {result}\")\n"
      ],
      "metadata": {
        "id": "IpqzKIcPwSus"
      },
      "execution_count": null,
      "outputs": []
    },
    {
      "cell_type": "code",
      "source": [
        "#RANDOM VARIABLES\n",
        "import random\n",
        "\n",
        "def create_environment(size):\n",
        "    return {\n",
        "        'size': size,\n",
        "        'agent_position': [0, 0]\n",
        "    }\n",
        "\n",
        "def is_valid_move(environment, position):\n",
        "    size = environment['size']\n",
        "    return 0 <= position[0] < size and 0 <= position[1] < size\n",
        "\n",
        "def perceive(environment):\n",
        "    return environment['agent_position']\n",
        "\n",
        "def act(environment):\n",
        "    moves = [(-1, 0), (1, 0), (0, -1), (0, 1)]  # Up, Down, Left, Right\n",
        "    random_move = random.choice(moves)\n",
        "    new_position = [\n",
        "        environment['agent_position'][0] + random_move[0],\n",
        "        environment['agent_position'][1] + random_move[1]\n",
        "    ]\n",
        "\n",
        "    if is_valid_move(environment, new_position):\n",
        "        environment['agent_position'] = new_position\n",
        "        return f\"Moved to {environment['agent_position']}\"\n",
        "    else:\n",
        "        return \"Cannot move, stayed in place\"\n",
        "\n",
        "def main():\n",
        "    env_size = 5\n",
        "    num_steps = 10\n",
        "\n",
        "    environment = create_environment(env_size)\n",
        "\n",
        "    print(f\"Starting position: {perceive(environment)}\")\n",
        "\n",
        "    for step in range(num_steps):\n",
        "        print(f\"Step {step + 1}: {act(environment)}\")\n",
        "\n",
        "if __name__ == \"__main__\":\n",
        "    main()"
      ],
      "metadata": {
        "id": "-dSVzI92wrOw"
      },
      "execution_count": null,
      "outputs": []
    }
  ]
}